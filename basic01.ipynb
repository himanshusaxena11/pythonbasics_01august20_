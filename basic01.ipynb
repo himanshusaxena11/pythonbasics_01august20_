{
 "cells": [
  {
   "cell_type": "code",
   "execution_count": 3,
   "id": "385f98bf",
   "metadata": {},
   "outputs": [
    {
     "data": {
      "text/plain": [
       "'hello world'"
      ]
     },
     "execution_count": 3,
     "metadata": {},
     "output_type": "execute_result"
    }
   ],
   "source": [
    "'hello world'"
   ]
  },
  {
   "cell_type": "code",
   "execution_count": 4,
   "id": "95d2e43c",
   "metadata": {},
   "outputs": [
    {
     "name": "stdout",
     "output_type": "stream",
     "text": [
      "hello world\n"
     ]
    }
   ],
   "source": [
    "print('hello world')"
   ]
  },
  {
   "cell_type": "code",
   "execution_count": 8,
   "id": "563a9caa",
   "metadata": {},
   "outputs": [
    {
     "name": "stdout",
     "output_type": "stream",
     "text": [
      "ram's book\n"
     ]
    }
   ],
   "source": [
    "print(\"ram's book\")"
   ]
  },
  {
   "cell_type": "code",
   "execution_count": 9,
   "id": "4f7f1cf4",
   "metadata": {},
   "outputs": [
    {
     "name": "stdout",
     "output_type": "stream",
     "text": [
      "hello bhai!kya haalchaal!\n"
     ]
    }
   ],
   "source": [
    "print('''hello bhai!kya haalchaal!''')"
   ]
  },
  {
   "cell_type": "code",
   "execution_count": 10,
   "id": "cab8caed",
   "metadata": {},
   "outputs": [
    {
     "name": "stdout",
     "output_type": "stream",
     "text": [
      "hello bhai!\n",
      "kya haalchaal!\n"
     ]
    }
   ],
   "source": [
    "print('''hello bhai!\n",
    "kya haalchaal!''')"
   ]
  },
  {
   "cell_type": "code",
   "execution_count": 11,
   "id": "9123dff2",
   "metadata": {},
   "outputs": [
    {
     "data": {
      "text/plain": [
       "123"
      ]
     },
     "execution_count": 11,
     "metadata": {},
     "output_type": "execute_result"
    }
   ],
   "source": [
    "123"
   ]
  },
  {
   "cell_type": "code",
   "execution_count": 12,
   "id": "c1599a56",
   "metadata": {},
   "outputs": [
    {
     "data": {
      "text/plain": [
       "'123'"
      ]
     },
     "execution_count": 12,
     "metadata": {},
     "output_type": "execute_result"
    }
   ],
   "source": [
    "'123'"
   ]
  },
  {
   "cell_type": "markdown",
   "id": "c5f79860",
   "metadata": {},
   "source": [
    "# data types and variables"
   ]
  },
  {
   "cell_type": "code",
   "execution_count": null,
   "id": "7900d0db",
   "metadata": {},
   "outputs": [],
   "source": [
    "a=5"
   ]
  },
  {
   "cell_type": "code",
   "execution_count": 18,
   "id": "b1e88697",
   "metadata": {},
   "outputs": [
    {
     "name": "stdout",
     "output_type": "stream",
     "text": [
      "a\n"
     ]
    }
   ],
   "source": [
    "print('a')"
   ]
  },
  {
   "cell_type": "code",
   "execution_count": 19,
   "id": "909a2df5",
   "metadata": {},
   "outputs": [
    {
     "name": "stdout",
     "output_type": "stream",
     "text": [
      "5\n"
     ]
    }
   ],
   "source": [
    "print(a)"
   ]
  },
  {
   "cell_type": "code",
   "execution_count": 20,
   "id": "f27ad8ee",
   "metadata": {},
   "outputs": [
    {
     "data": {
      "text/plain": [
       "3"
      ]
     },
     "execution_count": 20,
     "metadata": {},
     "output_type": "execute_result"
    }
   ],
   "source": [
    "d=3\n",
    "d"
   ]
  },
  {
   "cell_type": "code",
   "execution_count": 21,
   "id": "7dd8b79c",
   "metadata": {},
   "outputs": [
    {
     "data": {
      "text/plain": [
       "int"
      ]
     },
     "execution_count": 21,
     "metadata": {},
     "output_type": "execute_result"
    }
   ],
   "source": [
    "type(d)"
   ]
  },
  {
   "cell_type": "code",
   "execution_count": 22,
   "id": "02589d24",
   "metadata": {},
   "outputs": [],
   "source": [
    "z=45.21"
   ]
  },
  {
   "cell_type": "code",
   "execution_count": 23,
   "id": "f7e89c74",
   "metadata": {},
   "outputs": [
    {
     "data": {
      "text/plain": [
       "float"
      ]
     },
     "execution_count": 23,
     "metadata": {},
     "output_type": "execute_result"
    }
   ],
   "source": [
    "type(z)"
   ]
  },
  {
   "cell_type": "code",
   "execution_count": 27,
   "id": "6c536c06",
   "metadata": {},
   "outputs": [],
   "source": [
    "x='nkklkmkmkppllsokokrk,hhfweij,u999g'"
   ]
  },
  {
   "cell_type": "code",
   "execution_count": 28,
   "id": "d64ac210",
   "metadata": {},
   "outputs": [
    {
     "data": {
      "text/plain": [
       "str"
      ]
     },
     "execution_count": 28,
     "metadata": {},
     "output_type": "execute_result"
    }
   ],
   "source": [
    "type(x)"
   ]
  },
  {
   "cell_type": "code",
   "execution_count": 29,
   "id": "bcf70afd",
   "metadata": {},
   "outputs": [
    {
     "ename": "NameError",
     "evalue": "name 'true' is not defined",
     "output_type": "error",
     "traceback": [
      "\u001b[1;31m---------------------------------------------------------------------------\u001b[0m",
      "\u001b[1;31mNameError\u001b[0m                                 Traceback (most recent call last)",
      "Input \u001b[1;32mIn [29]\u001b[0m, in \u001b[0;36m<cell line: 1>\u001b[1;34m()\u001b[0m\n\u001b[1;32m----> 1\u001b[0m e\u001b[38;5;241m=\u001b[39m\u001b[43mtrue\u001b[49m\n",
      "\u001b[1;31mNameError\u001b[0m: name 'true' is not defined"
     ]
    }
   ],
   "source": [
    "e=true"
   ]
  },
  {
   "cell_type": "code",
   "execution_count": 33,
   "id": "4a151402",
   "metadata": {},
   "outputs": [],
   "source": [
    "e=True"
   ]
  },
  {
   "cell_type": "code",
   "execution_count": 34,
   "id": "763720c6",
   "metadata": {},
   "outputs": [
    {
     "data": {
      "text/plain": [
       "bool"
      ]
     },
     "execution_count": 34,
     "metadata": {},
     "output_type": "execute_result"
    }
   ],
   "source": [
    "type(e)"
   ]
  },
  {
   "cell_type": "code",
   "execution_count": 32,
   "id": "ae1ccac9",
   "metadata": {},
   "outputs": [],
   "source": [
    "e='true'"
   ]
  },
  {
   "cell_type": "code",
   "execution_count": 35,
   "id": "d7f90667",
   "metadata": {},
   "outputs": [
    {
     "data": {
      "text/plain": [
       "bool"
      ]
     },
     "execution_count": 35,
     "metadata": {},
     "output_type": "execute_result"
    }
   ],
   "source": [
    "type(e)"
   ]
  },
  {
   "cell_type": "code",
   "execution_count": 36,
   "id": "0bc487e7",
   "metadata": {},
   "outputs": [
    {
     "name": "stdout",
     "output_type": "stream",
     "text": [
      "5\n"
     ]
    }
   ],
   "source": [
    "# wap to add 2 nos\n",
    "a=4\n",
    "b=1\n",
    "print(a+b)"
   ]
  },
  {
   "cell_type": "code",
   "execution_count": 46,
   "id": "0afcb9d2",
   "metadata": {},
   "outputs": [
    {
     "name": "stdout",
     "output_type": "stream",
     "text": [
      "before swapping 3 2\n",
      "after swapping 2 3\n"
     ]
    }
   ],
   "source": [
    "# wap to swap2 nos\n",
    "# 1 with 3rd variable\n",
    "# 2 without 3rd variable\n",
    "a=3\n",
    "q=2\n",
    "print(\"before swapping\",a,q)\n",
    "z=a\n",
    "a=q\n",
    "q=z\n",
    "print(\"after swapping\",a,q)"
   ]
  },
  {
   "cell_type": "code",
   "execution_count": 47,
   "id": "db29a867",
   "metadata": {},
   "outputs": [
    {
     "name": "stdout",
     "output_type": "stream",
     "text": [
      "before swapping 3 2\n",
      "after swapping 2 3\n"
     ]
    }
   ],
   "source": [
    "a=3\n",
    "q=2\n",
    "print(\"before swapping\",a,q)\n",
    "a,q=q,a\n",
    "print(\"after swapping\",a,q)\n"
   ]
  },
  {
   "cell_type": "code",
   "execution_count": null,
   "id": "d4344f21",
   "metadata": {},
   "outputs": [],
   "source": []
  }
 ],
 "metadata": {
  "kernelspec": {
   "display_name": "Python 3 (ipykernel)",
   "language": "python",
   "name": "python3"
  },
  "language_info": {
   "codemirror_mode": {
    "name": "ipython",
    "version": 3
   },
   "file_extension": ".py",
   "mimetype": "text/x-python",
   "name": "python",
   "nbconvert_exporter": "python",
   "pygments_lexer": "ipython3",
   "version": "3.9.12"
  }
 },
 "nbformat": 4,
 "nbformat_minor": 5
}
